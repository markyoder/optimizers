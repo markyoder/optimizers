{
 "cells": [
  {
   "cell_type": "code",
   "execution_count": 3,
   "metadata": {
    "collapsed": false
   },
   "outputs": [],
   "source": [
    "%load_ext autoreload\n",
    "%autoreload 2\n",
    "%matplotlib inline"
   ]
  },
  {
   "cell_type": "code",
   "execution_count": 4,
   "metadata": {
    "collapsed": false
   },
   "outputs": [],
   "source": [
    "import roc_tools as rtp\n",
    "import pylab as plt\n",
    "import numpy\n"
   ]
  },
  {
   "cell_type": "code",
   "execution_count": 5,
   "metadata": {
    "collapsed": false
   },
   "outputs": [
    {
     "name": "stdout",
     "output_type": "stream",
     "text": [
      "lens:  25 25\n"
     ]
    },
    {
     "data": {
      "image/png": "[encoded data removed]",
      "text/plain": [
       "<matplotlib.figure.Figure at 0x7f7eca579550>"
      ]
     },
     "metadata": {},
     "output_type": "display_data"
    }
   ],
   "source": [
    "aa=rtp.roc_test_spp1()"
   ]
  },
  {
   "cell_type": "code",
   "execution_count": 6,
   "metadata": {
    "collapsed": false
   },
   "outputs": [
    {
     "name": "stdout",
     "output_type": "stream",
     "text": [
      "[[0.0, 0.0], [0.0, 0.125], [0.0, 0.25], [0.0, 0.375], [0.058823529411764705, 0.375], [0.058823529411764705, 0.5], [0.11764705882352941, 0.5], [0.17647058823529413, 0.5], [0.17647058823529413, 0.625], [0.23529411764705882, 0.625], [0.23529411764705882, 0.75], [0.29411764705882354, 0.75], [0.35294117647058826, 0.75], [0.4117647058823529, 0.75], [0.47058823529411764, 0.75], [0.47058823529411764, 0.875], [0.5294117647058824, 0.875], [0.5882352941176471, 0.875], [0.6470588235294118, 0.875], [0.7058823529411765, 0.875], [0.7647058823529411, 0.875], [0.8235294117647058, 0.875], [0.8823529411764706, 0.875], [0.9411764705882353, 0.875], [1.0, 0.875], [1.0, 1.0]]\n",
      "lens:  25 8\n"
     ]
    },
    {
     "data": {
      "image/png": "[encoded data removed]",
      "text/plain": [
       "<matplotlib.figure.Figure at 0x7f7ec5099390>"
      ]
     },
     "metadata": {},
     "output_type": "display_data"
    }
   ],
   "source": [
    "Z_fc = rtp.default_roc_sample['Z_fc']\n",
    "Z_ev = rtp.default_roc_sample['Z_ev']\n",
    "#\n",
    "FH = rtp.calc_roc(Z_fc, Z_ev, f_denom=None, h_denom=None)\n",
    "print(FH)\n",
    "plt.figure()\n",
    "plt.clf()\n",
    "ax=plt.gca()\n",
    "ax.plot(*zip(*FH), ls='-', marker='.')\n",
    "ax.plot(range(2), range(2), color='r', ls='-', lw=2.)\n",
    "#\n",
    "ax.set_xlim(-.1, 1.1*max([x[0] for x in FH]))\n",
    "ax.set_ylim(-.1, 1.1*max([x[1] for x in FH]))\n",
    "\n",
    "print('lens: ', len(Z_fc), len(Z_ev))"
   ]
  },
  {
   "cell_type": "code",
   "execution_count": 7,
   "metadata": {
    "collapsed": false
   },
   "outputs": [
    {
     "name": "stdout",
     "output_type": "stream",
     "text": [
      "[[0.0, 0.0], [0.0, 1.0], [0.0, 2.0], [0.0, 3.0], [1.0, 3.0], [1.0, 4.0], [2.0, 4.0], [3.0, 4.0], [3.0, 5.0], [4.0, 5.0], [4.0, 6.0], [5.0, 6.0], [6.0, 6.0], [7.0, 6.0], [8.0, 6.0], [8.0, 7.0], [9.0, 7.0], [10.0, 7.0], [11.0, 7.0], [12.0, 7.0], [13.0, 7.0], [14.0, 7.0], [15.0, 7.0], [16.0, 7.0], [17.0, 7.0], [17.0, 8.0]]\n",
      "lens:  25 8\n"
     ]
    },
    {
     "data": {
      "image/png": "[encoded data removed]",
      "text/plain": [
       "<matplotlib.figure.Figure at 0x7f7ec5a7fcf8>"
      ]
     },
     "metadata": {},
     "output_type": "display_data"
    }
   ],
   "source": [
    "Z_fc = rtp.default_roc_sample['Z_fc']\n",
    "Z_ev = rtp.default_roc_sample['Z_ev']\n",
    "#\n",
    "# apparently, this needs to be revisited; there is an error in the compression\n",
    "# logic for cases real data sets that the sample data don't hit.\n",
    "FH0 = rtp.calc_roc_compressed(Z_fc, Z_ev, f_denom=1, h_denom=1, do_compressed=True)\n",
    "FH = rtp.calc_roc(Z_fc, Z_ev, f_denom=1, h_denom=1)\n",
    "\n",
    "print(FH)\n",
    "fg=plt.figure()\n",
    "plt.clf()\n",
    "#ax1=plt.gca()\n",
    "\n",
    "ax1 = fg.add_axes([.1,.1, .35,.8])\n",
    "ax2 = fg.add_axes([.5, .1, .35,.8], sharey=ax1)\n",
    "\n",
    "ax1.plot(*zip(*FH0), ls='-', marker='.')\n",
    "ax1.plot(numpy.arange(2)*FH0[-1][0], numpy.arange(2)*FH0[-1][1], color='r', ls='-', lw=2.)\n",
    "\n",
    "ax2.plot(*zip(*FH), ls='-', marker='.')\n",
    "ax2.plot(numpy.arange(2)*FH[-1][0], numpy.arange(2)*FH[-1][1], color='r', ls='-', lw=2.)\n",
    "#\n",
    "ax1.set_xlim(-.1, 1.1*max([x[0] for x in FH]))\n",
    "ax1.set_ylim(-.1, 1.1*max([x[1] for x in FH]))\n",
    "\n",
    "print('lens: ', len(Z_fc), len(Z_ev))"
   ]
  },
  {
   "cell_type": "code",
   "execution_count": null,
   "metadata": {
    "collapsed": false
   },
   "outputs": [],
   "source": [
    "mc=5.0\n",
    "ROC_datas = rtp.ROC_data_handler('test_data/nepal_etas_20150507_b.xyz', \n",
    "                                 'test_data/catalog_to_15may_xym.csv', z_event_min=mc)\n"
   ]
  },
  {
   "cell_type": "code",
   "execution_count": null,
   "metadata": {
    "collapsed": false
   },
   "outputs": [],
   "source": [
    "ROC_datas.z_events[0:10]"
   ]
  },
  {
   "cell_type": "code",
   "execution_count": null,
   "metadata": {
    "collapsed": false
   },
   "outputs": [],
   "source": [
    "plt.figure()\n",
    "plt.clf()\n",
    "\n",
    "for mc in (5.0,5.5, 6.0, 6.5, 7.0):\n",
    "    ROC_datas = rtp.ROC_data_handler('test_data/nepal_etas_20150507_b.xyz', \n",
    "                                 'test_data/catalog_to_15may_xym.csv', z_event_min=mc)\n",
    "    FH = rtp.calc_roc(ROC_datas.fc_xyz['z'], \n",
    "                                 ROC_datas.z_events)\n",
    "    plt.plot(*zip(*FH), ls='-', marker='', label='mc={:.3f}'.format(mc))\n",
    "\n",
    "plt.plot(range(2), range(2), color='r', marker='', ls='-')\n",
    "plt.legend(loc=0, numpoints=1)"
   ]
  },
  {
   "cell_type": "code",
   "execution_count": 29,
   "metadata": {
    "collapsed": false
   },
   "outputs": [],
   "source": [
    "def calc_molchan_sum(Z_fc, Z_ev, f_denom=None, h_denom=None):\n",
    "    f_denom = (f_denom or len(Z_fc))\n",
    "    h_denom = (h_denom or len(Z_ev))\n",
    "    #\n",
    "    # first a simple, but costly approach:\n",
    "    return [[k_fc/f_denom, sum([z_ev>=z_fc for z_ev in Z_ev])/h_denom] for k_fc, z_fc in enumerate(reversed(sorted(Z_fc)))]\n",
    "    \n",
    "def calc_molchan(Z_fc, Z_ev, f_denom=None, h_denom=None):\n",
    "    f_denom = (f_denom or len(Z_fc))\n",
    "    h_denom = (h_denom or len(Z_ev))\n",
    "    #\n",
    "    \n",
    "    FH = [[0.,0.]]\n",
    "    it_ev = enumerate(reversed(sorted(Z_ev)))\n",
    "    #\n",
    "    k_ev,z_ev = it_ev.__next__()\n",
    "    for k_fc, z_fc in enumerate(reversed(sorted(Z_fc))):\n",
    "        while z_ev>=k_ev:\n",
    "            if k_ev>=h_denom-1:\n",
    "                k_ev+=1\n",
    "                break\n",
    "            else:\n",
    "                k_ev, z_ev = it_ev.__next__()\n",
    "        #\n",
    "        FH += [[k_fc/f_denom, k_ev/h_denom]]\n",
    "    #\n",
    "    return FH"
   ]
  },
  {
   "cell_type": "code",
   "execution_count": 30,
   "metadata": {
    "collapsed": false
   },
   "outputs": [
    {
     "data": {
      "text/plain": [
       "[<matplotlib.lines.Line2D at 0x7f7ec4c1def0>]"
      ]
     },
     "execution_count": 30,
     "metadata": {},
     "output_type": "execute_result"
    },
    {
     "data": {
      "image/png": "[encoded data removed]",
      "text/plain": [
       "<matplotlib.figure.Figure at 0x7f7ec4c54a20>"
      ]
     },
     "metadata": {},
     "output_type": "display_data"
    }
   ],
   "source": [
    "f_denom=None\n",
    "h_denom=None\n",
    "FH_m  = calc_molchan_sum(Z_fc, Z_ev, f_denom=f_denom, h_denom=h_denom)\n",
    "FH_m2 = calc_molchan(Z_fc, Z_ev, f_denom=f_denom, h_denom=h_denom)\n",
    "FH = rtp.calc_roc(Z_fc, Z_ev, f_denom=f_denom, h_denom=h_denom)\n",
    "\n",
    "plt.figure()\n",
    "plt.plot(*zip(*FH_m))\n",
    "plt.plot(*zip(*FH_m2))\n",
    "plt.plot(*zip(*FH), marker='.', ls='-')\n",
    "plt.plot(range(2), range(2), 'r-')"
   ]
  },
  {
   "cell_type": "code",
   "execution_count": null,
   "metadata": {
    "collapsed": true
   },
   "outputs": [],
   "source": []
  },
  {
   "cell_type": "code",
   "execution_count": null,
   "metadata": {
    "collapsed": true
   },
   "outputs": [],
   "source": []
  }
 ],
 "metadata": {
  "kernelspec": {
   "display_name": "Python 3",
   "language": "python",
   "name": "python3"
  },
  "language_info": {
   "codemirror_mode": {
    "name": "ipython",
    "version": 3
   },
   "file_extension": ".py",
   "mimetype": "text/x-python",
   "name": "python",
   "nbconvert_exporter": "python",
   "pygments_lexer": "ipython3",
   "version": "3.5.1"
  }
 },
 "nbformat": 4,
 "nbformat_minor": 0
}
