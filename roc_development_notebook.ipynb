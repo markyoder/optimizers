{
 "cells": [
  {
   "cell_type": "code",
   "execution_count": null,
   "metadata": {
    "collapsed": false
   },
   "outputs": [],
   "source": [
    "%load_ext autoreload\n",
    "%autoreload 2\n",
    "%matplotlib inline"
   ]
  },
  {
   "cell_type": "code",
   "execution_count": null,
   "metadata": {
    "collapsed": false
   },
   "outputs": [],
   "source": [
    "import roc_tools as rtp\n",
    "import pylab as plt\n",
    "import numpy\n",
    "import itertools\n"
   ]
  },
  {
   "cell_type": "code",
   "execution_count": null,
   "metadata": {
    "collapsed": false
   },
   "outputs": [],
   "source": [
    "aa=rtp.roc_test_spp1()"
   ]
  },
  {
   "cell_type": "code",
   "execution_count": null,
   "metadata": {
    "collapsed": false
   },
   "outputs": [],
   "source": [
    "Z_fc = rtp.default_roc_sample['Z_fc']\n",
    "Z_ev = rtp.default_roc_sample['Z_ev']\n",
    "#\n",
    "FH = rtp.calc_roc(Z_fc, Z_ev, f_denom=None, h_denom=None)\n",
    "print(FH)\n",
    "plt.figure()\n",
    "plt.clf()\n",
    "ax=plt.gca()\n",
    "ax.plot(*zip(*FH), ls='-', marker='.')\n",
    "ax.plot(range(2), range(2), color='r', ls='-', lw=2.)\n",
    "#\n",
    "ax.set_xlim(-.1, 1.1*max([x[0] for x in FH]))\n",
    "ax.set_ylim(-.1, 1.1*max([x[1] for x in FH]))\n",
    "\n",
    "print('lens: ', len(Z_fc), len(Z_ev))"
   ]
  },
  {
   "cell_type": "code",
   "execution_count": null,
   "metadata": {
    "collapsed": false
   },
   "outputs": [],
   "source": [
    "Z_fc = rtp.default_roc_sample['Z_fc']\n",
    "Z_ev = rtp.default_roc_sample['Z_ev']\n",
    "#\n",
    "# apparently, this needs to be revisited; there is an error in the compression\n",
    "# logic for cases real data sets that the sample data don't hit.\n",
    "FH0 = rtp.calc_roc_compressed(Z_fc, Z_ev, f_denom=1, h_denom=1, do_compressed=True)\n",
    "FH = rtp.calc_roc(Z_fc, Z_ev, f_denom=1, h_denom=1)\n",
    "\n",
    "print(FH)\n",
    "fg=plt.figure()\n",
    "plt.clf()\n",
    "#ax1=plt.gca()\n",
    "\n",
    "ax1 = fg.add_axes([.1,.1, .35,.8])\n",
    "ax2 = fg.add_axes([.5, .1, .35,.8], sharey=ax1)\n",
    "\n",
    "ax1.plot(*zip(*FH0), ls='-', marker='.')\n",
    "ax1.plot(numpy.arange(2)*FH0[-1][0], numpy.arange(2)*FH0[-1][1], color='r', ls='-', lw=2.)\n",
    "\n",
    "ax2.plot(*zip(*FH), ls='-', marker='.')\n",
    "ax2.plot(numpy.arange(2)*FH[-1][0], numpy.arange(2)*FH[-1][1], color='r', ls='-', lw=2.)\n",
    "#\n",
    "ax1.set_xlim(-.1, 1.1*max([x[0] for x in FH]))\n",
    "ax1.set_ylim(-.1, 1.1*max([x[1] for x in FH]))\n",
    "\n",
    "print('lens: ', len(Z_fc), len(Z_ev))"
   ]
  },
  {
   "cell_type": "code",
   "execution_count": null,
   "metadata": {
    "collapsed": false
   },
   "outputs": [],
   "source": [
    "mc=5.0\n",
    "ROC_datas = rtp.ROC_xyz_handler('test_data/nepal_etas_20150507_b.xyz', \n",
    "                                 'test_data/catalog_to_15may_xym.csv', z_event_min=mc)\n"
   ]
  },
  {
   "cell_type": "code",
   "execution_count": null,
   "metadata": {
    "collapsed": false
   },
   "outputs": [],
   "source": [
    "ROC_datas.z_events[0:10]"
   ]
  },
  {
   "cell_type": "code",
   "execution_count": null,
   "metadata": {
    "collapsed": false
   },
   "outputs": [],
   "source": [
    "plt.figure()\n",
    "plt.clf()\n",
    "\n",
    "for mc in (5.0,5.5, 6.0, 6.5, 7.0):\n",
    "    ROC_datas = rtp.ROC_xyz_handler('test_data/nepal_etas_20150507_b.xyz', \n",
    "                                 'test_data/catalog_to_15may_xym.csv', z_event_min=mc)\n",
    "    FH = rtp.calc_roc(ROC_datas.fc_xyz['z'], \n",
    "                                 ROC_datas.z_events)\n",
    "    plt.plot(*zip(*FH), ls='-', marker='', label='mc={:.3f}'.format(mc))\n",
    "\n",
    "plt.plot(range(2), range(2), color='r', marker='', ls='-')\n",
    "plt.legend(loc=0, numpoints=1)"
   ]
  },
  {
   "cell_type": "code",
   "execution_count": null,
   "metadata": {
    "collapsed": false
   },
   "outputs": [],
   "source": []
  },
  {
   "cell_type": "code",
   "execution_count": null,
   "metadata": {
    "collapsed": false
   },
   "outputs": [],
   "source": [
    "f_denom=None\n",
    "h_denom=None\n",
    "FH_m  = rtp.calc_molchan_sum(Z_fc, Z_ev, f_denom=f_denom, h_denom=h_denom)\n",
    "FH_m2 = rtp.calc_molchan(Z_fc, Z_ev, f_denom=f_denom, h_denom=h_denom)\n",
    "FH = rtp.calc_roc(Z_fc, Z_ev, f_denom=f_denom, h_denom=h_denom)\n",
    "\n",
    "plt.figure()\n",
    "plt.plot(*zip(*FH_m))\n",
    "plt.plot(*zip(*FH_m2))\n",
    "plt.plot(*zip(*FH), marker='.', ls='-')\n",
    "plt.plot(range(2), range(2), 'r-')"
   ]
  },
  {
   "cell_type": "markdown",
   "metadata": {
    "collapsed": true
   },
   "source": [
    "### spatial map validation.\n",
    "- make a forecast\n",
    "- put some events in it\n",
    "- calc ROC and Molchan"
   ]
  },
  {
   "cell_type": "code",
   "execution_count": null,
   "metadata": {
    "collapsed": false
   },
   "outputs": [],
   "source": [
    "#Zs_fc = numpy.arange(100)\n",
    "#Zs_fc.shape=((10,10))\n",
    "fc_xyz = [[x,y,z] for z,(x,y) in enumerate(itertools.product(range(10), range(10)))]\n",
    "m=5.\n",
    "ev_xyz = [[5,5,m], [6,4,m], [9,7,m], [2,8,m], [5,8,m], [9,8,m], [3,9,m], [7,9,m]]\n",
    "#\n",
    "ROC_handler = rtp.ROC_xyz_handler(fc_xyz, ev_xyz)\n",
    "\n",
    "print(ROC_handler.z_events)\n",
    "\n",
    "plt.figure()\n",
    "plt.plot(*zip(*ROC_handler.calc_roc()), ls='-', marker='.')\n",
    "plt.plot(*zip(*ROC_handler.calc_molchan()), ls='-', marker='.')\n",
    "plt.plot(*zip(*ROC_handler.calc_molchan_sum()), ls='-', marker='.')\n",
    "plt.plot(range(2), range(2), color='r', ls='--', lw=2.)\n",
    "\n",
    "#print(ROC_handler.calc_molchan())\n",
    "#plt.figure()\n",
    "#plt.clf()\n",
    "#plt.plot(*zip(*ROC_handler.calc_molchan()), ls='-', marker='.')\n",
    "#\n",
    "plt.figure()\n",
    "plt.clf()\n",
    "ax1=plt.gca()\n",
    "ax1.imshow(numpy.reshape(ROC_handler.fc_xyz['z'],(10,10)), interpolation='nearest')\n",
    "ax1.scatter(ROC_handler.events_xyz['x'], ROC_handler.events_xyz['y'], marker='o')"
   ]
  },
  {
   "cell_type": "code",
   "execution_count": null,
   "metadata": {
    "collapsed": false
   },
   "outputs": [],
   "source": [
    "rtp.roc_xyz_test()\n"
   ]
  },
  {
   "cell_type": "code",
   "execution_count": null,
   "metadata": {
    "collapsed": true
   },
   "outputs": [],
   "source": []
  },
  {
   "cell_type": "code",
   "execution_count": null,
   "metadata": {
    "collapsed": true
   },
   "outputs": [],
   "source": []
  }
 ],
 "metadata": {
  "kernelspec": {
   "display_name": "Python 3",
   "language": "python",
   "name": "python3"
  },
  "language_info": {
   "codemirror_mode": {
    "name": "ipython",
    "version": 3
   },
   "file_extension": ".py",
   "mimetype": "text/x-python",
   "name": "python",
   "nbconvert_exporter": "python",
   "pygments_lexer": "ipython3",
   "version": "3.5.1"
  }
 },
 "nbformat": 4,
 "nbformat_minor": 0
}
